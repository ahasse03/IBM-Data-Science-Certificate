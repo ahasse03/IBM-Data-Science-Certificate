{
  "metadata": {
    "language_info": {
      "codemirror_mode": {
        "name": "python",
        "version": 3
      },
      "file_extension": ".py",
      "mimetype": "text/x-python",
      "name": "python",
      "nbconvert_exporter": "python",
      "pygments_lexer": "ipython3",
      "version": "3.8"
    },
    "kernelspec": {
      "name": "python",
      "display_name": "Pyolite",
      "language": "python"
    }
  },
  "nbformat_minor": 4,
  "nbformat": 4,
  "cells": [
    {
      "cell_type": "markdown",
      "source": "# My Jupyter Notebook on IBM Watson Studio",
      "metadata": {
        "tags": []
      }
    },
    {
      "cell_type": "markdown",
      "source": "**Adam Hasse** <br>\nBiostatistician",
      "metadata": {}
    },
    {
      "cell_type": "markdown",
      "source": "*I am interested in data science because data is the most valuable tool that we have to advance science, health, and society.*",
      "metadata": {}
    },
    {
      "cell_type": "markdown",
      "source": "### This code will print \"Hello World\"",
      "metadata": {}
    },
    {
      "cell_type": "code",
      "source": "print(\"Hello World\")",
      "metadata": {
        "trusted": true
      },
      "execution_count": 1,
      "outputs": [
        {
          "name": "stdout",
          "text": "Hello World\n",
          "output_type": "stream"
        }
      ]
    },
    {
      "cell_type": "markdown",
      "source": "<hr>\nThis cell contains three of the required elements: <br>\n1. Horizontal Rule <br>\n2. Numbered List <br>\n3. [A hyperlink for you](https://www.youtube.com/watch?v=dQw4w9WgXcQ&ab_channel=RickAstley) \n\n\n\n",
      "metadata": {}
    }
  ]
}
